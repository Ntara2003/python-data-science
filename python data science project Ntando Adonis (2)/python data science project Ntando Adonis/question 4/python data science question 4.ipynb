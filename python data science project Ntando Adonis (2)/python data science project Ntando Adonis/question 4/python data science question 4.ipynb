{
  "cells": [
    {
      "cell_type": "code",
      "execution_count": 3,
      "metadata": {
        "colab": {
          "base_uri": "https://localhost:8080/",
          "height": 106
        },
        "id": "1Nxpgi7aTM9H",
        "outputId": "bc4d954c-de06-4835-cd94-2e6ed948fda8"
      },
      "outputs": [
        {
          "ename": "SyntaxError",
          "evalue": "(unicode error) 'unicodeescape' codec can't decode bytes in position 2-3: truncated \\UXXXXXXXX escape (<ipython-input-3-816810394fe0>, line 4)",
          "output_type": "error",
          "traceback": [
            "\u001b[0;36m  File \u001b[0;32m\"<ipython-input-3-816810394fe0>\"\u001b[0;36m, line \u001b[0;32m4\u001b[0m\n\u001b[0;31m    file_path = 'C:\\Users\\Ntando\\OneDrive\\Documents\\python data science project Ntando Adonis\\question 4'\u001b[0m\n\u001b[0m                                                                                                         ^\u001b[0m\n\u001b[0;31mSyntaxError\u001b[0m\u001b[0;31m:\u001b[0m (unicode error) 'unicodeescape' codec can't decode bytes in position 2-3: truncated \\UXXXXXXXX escape\n"
          ]
        }
      ],
      "source": [
        "import csv\n",
        "\n",
        "# Correct file path format (using raw string)\n",
        "file_path = r'C:\\Users\\Ntando\\OneDrive\\Documents\\python data science project Ntando Adonis\\question 4\\percent-bachelors-degrees-women-usa.csv'\n",
        "\n",
        "# Read the file as a list of lists\n",
        "with open(file_path, newline='') as csvfile:\n",
        "    BDW = list(csv.reader(csvfile))\n",
        "\n",
        "# Display the first 5 rows of BDW separately on different lines\n",
        "for row in BDW[:5]:\n",
        "    print(row)\n",
        "\n",
        "# Remove the header row and assign the rest of the dataset to BDW1\n",
        "BDW1 = BDW[1:]\n",
        "\n",
        "# Display the first, second, and third rows of BDW1 using slicing\n",
        "print(BDW1[:3])\n",
        "\n",
        "# Creating the Indexcount_year and Indexpercent_year dictionaries\n",
        "Indexcount_year = {}\n",
        "Indexpercent_year = {}\n",
        "\n",
        "for i, row in enumerate(BDW1):\n",
        "    year = int(row[1])  # Convert year to integer\n",
        "\n",
        "    # Update Indexcount_year dictionary\n",
        "    if year in Indexcount_year:\n",
        "        Indexcount_year[year] += 1\n",
        "    else:\n",
        "        Indexcount_year[year] = 1\n",
        "\n",
        "    # Update Indexpercent_year dictionary\n",
        "    if year in Indexpercent_year:\n",
        "        Indexpercent_year[year].append(i)\n",
        "    else:\n",
        "        Indexpercent_year[year] = [i]\n",
        "\n",
        "print(Indexcount_year)\n",
        "print(Indexpercent_year)\n",
        "\n",
        "# Extracting the required lists for specific majors and years\n",
        "Maths_Stats = []\n",
        "Physic_Sci = []\n",
        "Engine = []\n",
        "Comp_Sci = []\n",
        "Year = []\n",
        "\n",
        "for row in BDW1:\n",
        "    Year.append(int(row[1]))  # Append the year as an integer\n",
        "    Maths_Stats.append(float(row[13]))  # Math and Statistics\n",
        "    Physic_Sci.append(float(row[14]))  # Physical Sciences\n",
        "    Engine.append(float(row[9]))  # Engineering\n",
        "    Comp_Sci.append(float(row[7]))  # Computer Science\n",
        "\n",
        "print(Maths_Stats)\n",
        "print(Physic_Sci)\n",
        "print(Engine)\n",
        "print(Comp_Sci)\n",
        "print(Year)\n",
        "\n",
        "\n"
      ]
    }
  ],
  "metadata": {
    "colab": {
      "provenance": []
    },
    "kernelspec": {
      "display_name": "Python 3",
      "name": "python3"
    },
    "language_info": {
      "name": "python"
    }
  },
  "nbformat": 4,
  "nbformat_minor": 0
}
